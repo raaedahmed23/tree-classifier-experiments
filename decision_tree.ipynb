{
  "nbformat": 4,
  "nbformat_minor": 0,
  "metadata": {
    "colab": {
      "provenance": []
    },
    "kernelspec": {
      "name": "python3",
      "display_name": "Python 3"
    },
    "language_info": {
      "name": "python"
    }
  },
  "cells": [
    {
      "cell_type": "code",
      "source": [
        "from sklearn.tree import DecisionTreeClassifier\n",
        "from sklearn.model_selection import GridSearchCV\n",
        "from sklearn.metrics import accuracy_score, f1_score\n",
        "\n",
        "import numpy as np"
      ],
      "metadata": {
        "id": "a6hUACgOtpQo"
      },
      "execution_count": 3,
      "outputs": []
    },
    {
      "cell_type": "code",
      "source": [
        "def runDecisionTree(i, j):\n",
        "    TRAIN_PATH = f'all_data/train_c{str(i)}_d{str(j)}.csv'\n",
        "    TEST_PATH = f'all_data/test_c{str(i)}_d{str(j)}.csv'\n",
        "    VAL_PATH = f'all_data/valid_c{str(i)}_d{str(j)}.csv'\n",
        "\n",
        "    train_data = np.genfromtxt(TRAIN_PATH, delimiter = ',')\n",
        "    val_data = np.genfromtxt(VAL_PATH, delimiter = ',')\n",
        "    test_data = np.genfromtxt(TEST_PATH, delimiter = ',')\n",
        "\n",
        "    X_train = train_data[:, :-1]\n",
        "    y_train = train_data[:, -1]\n",
        "\n",
        "    X_val = val_data[:, :-1]\n",
        "    y_val = val_data[:, -1]\n",
        "\n",
        "    X_test = test_data[:, :-1]\n",
        "    y_test = test_data[:, -1]\n",
        "\n",
        "    param_grid = {\n",
        "    'criterion': ['gini', 'entropy'],\n",
        "    'max_depth': [2, 4, 6, 8, 10],\n",
        "    'min_samples_split': [2, 4, 6, 8, 10],\n",
        "    'min_samples_leaf': [1, 2, 3, 4, 5],\n",
        "    'max_features': [None, 'sqrt', 'log2']\n",
        "    }\n",
        "\n",
        "    dt = DecisionTreeClassifier()\n",
        "\n",
        "    grid_search = GridSearchCV(dt, param_grid, cv = 5)\n",
        "    grid_search.fit(X_val, y_val)\n",
        "\n",
        "    print('Best Parameters found -', grid_search.best_params_)\n",
        "\n",
        "    best_dt = DecisionTreeClassifier(**grid_search.best_params_)\n",
        "    X_trainval = np.concatenate((X_train, X_val), axis = 0)\n",
        "    y_trainval = np.concatenate((y_train, y_val), axis = 0)\n",
        "    \n",
        "    best_dt.fit(X_trainval, y_trainval)\n",
        "    \n",
        "    y_pred = best_dt.predict(X_test)\n",
        "    accuracy = accuracy_score(y_test, y_pred)\n",
        "    f1 = f1_score(y_test, y_pred)\n",
        "\n",
        "    print('Test set accuracy =', accuracy)\n",
        "    print('Test set f1 score =', f1)"
      ],
      "metadata": {
        "id": "GpF9PGyCuWqB"
      },
      "execution_count": 15,
      "outputs": []
    },
    {
      "cell_type": "code",
      "source": [
        "runDecisionTree(300,100)"
      ],
      "metadata": {
        "colab": {
          "base_uri": "https://localhost:8080/"
        },
        "id": "lPfq6gqzzaOn",
        "outputId": "a802ed58-91af-490d-c72d-cca26ee5a53a"
      },
      "execution_count": 16,
      "outputs": [
        {
          "output_type": "stream",
          "name": "stdout",
          "text": [
            "Best Parameters found - {'criterion': 'gini', 'max_depth': 2, 'max_features': 'sqrt', 'min_samples_leaf': 1, 'min_samples_split': 4}\n",
            "Test set accuracy = 0.575\n",
            "Test set f1 score = 0.5971563981042655\n"
          ]
        }
      ]
    },
    {
      "cell_type": "code",
      "source": [
        "runDecisionTree(300, 1000)"
      ],
      "metadata": {
        "colab": {
          "base_uri": "https://localhost:8080/"
        },
        "id": "_aLSP3GwzgP_",
        "outputId": "43f7b005-c748-44c9-880d-01fa8d5efd86"
      },
      "execution_count": 17,
      "outputs": [
        {
          "output_type": "stream",
          "name": "stdout",
          "text": [
            "Best Parameters found - {'criterion': 'entropy', 'max_depth': 6, 'max_features': None, 'min_samples_leaf': 2, 'min_samples_split': 8}\n",
            "Test set accuracy = 0.682\n",
            "Test set f1 score = 0.7022471910112359\n"
          ]
        }
      ]
    },
    {
      "cell_type": "code",
      "source": [
        "runDecisionTree(300, 5000)"
      ],
      "metadata": {
        "colab": {
          "base_uri": "https://localhost:8080/"
        },
        "id": "wKNF-Uygzc-8",
        "outputId": "8c29f0a1-1864-4ca6-8e8b-f5875625b288"
      },
      "execution_count": 18,
      "outputs": [
        {
          "output_type": "stream",
          "name": "stdout",
          "text": [
            "Best Parameters found - {'criterion': 'gini', 'max_depth': 8, 'max_features': None, 'min_samples_leaf': 5, 'min_samples_split': 4}\n",
            "Test set accuracy = 0.7796\n",
            "Test set f1 score = 0.7998547039593171\n"
          ]
        }
      ]
    },
    {
      "cell_type": "code",
      "source": [
        "runDecisionTree(500, 100)"
      ],
      "metadata": {
        "colab": {
          "base_uri": "https://localhost:8080/"
        },
        "id": "D3sRe1xf8r1g",
        "outputId": "ce25e985-4593-43fd-9b74-e144c153f8fd"
      },
      "execution_count": 19,
      "outputs": [
        {
          "output_type": "stream",
          "name": "stdout",
          "text": [
            "Best Parameters found - {'criterion': 'entropy', 'max_depth': 6, 'max_features': 'sqrt', 'min_samples_leaf': 4, 'min_samples_split': 4}\n",
            "Test set accuracy = 0.57\n",
            "Test set f1 score = 0.5222222222222221\n"
          ]
        }
      ]
    },
    {
      "cell_type": "code",
      "source": [
        "runDecisionTree(500, 1000)"
      ],
      "metadata": {
        "colab": {
          "base_uri": "https://localhost:8080/"
        },
        "id": "GM6k5HXe83-p",
        "outputId": "6b4263d8-4735-49d9-c5ae-27f5ec6d48c7"
      },
      "execution_count": 20,
      "outputs": [
        {
          "output_type": "stream",
          "name": "stdout",
          "text": [
            "Best Parameters found - {'criterion': 'entropy', 'max_depth': 6, 'max_features': None, 'min_samples_leaf': 4, 'min_samples_split': 4}\n",
            "Test set accuracy = 0.708\n",
            "Test set f1 score = 0.7203065134099617\n"
          ]
        }
      ]
    },
    {
      "cell_type": "code",
      "source": [
        "runDecisionTree(500, 5000)"
      ],
      "metadata": {
        "colab": {
          "base_uri": "https://localhost:8080/"
        },
        "id": "IfHDoOJL9DxR",
        "outputId": "65574b92-b7f0-47d8-e767-db0034ac2988"
      },
      "execution_count": 21,
      "outputs": [
        {
          "output_type": "stream",
          "name": "stdout",
          "text": [
            "Best Parameters found - {'criterion': 'entropy', 'max_depth': 8, 'max_features': None, 'min_samples_leaf': 1, 'min_samples_split': 10}\n",
            "Test set accuracy = 0.7812\n",
            "Test set f1 score = 0.8019909502262444\n"
          ]
        }
      ]
    },
    {
      "cell_type": "code",
      "source": [
        "runDecisionTree(1000, 100)"
      ],
      "metadata": {
        "colab": {
          "base_uri": "https://localhost:8080/"
        },
        "id": "zAQI7QbQ9B7D",
        "outputId": "9ce3ea1e-acf9-44f9-fb49-06887fd27ced"
      },
      "execution_count": 22,
      "outputs": [
        {
          "output_type": "stream",
          "name": "stdout",
          "text": [
            "Best Parameters found - {'criterion': 'gini', 'max_depth': 6, 'max_features': None, 'min_samples_leaf': 2, 'min_samples_split': 2}\n",
            "Test set accuracy = 0.715\n",
            "Test set f1 score = 0.7106598984771574\n"
          ]
        }
      ]
    },
    {
      "cell_type": "code",
      "source": [
        "runDecisionTree(1000, 1000)"
      ],
      "metadata": {
        "colab": {
          "base_uri": "https://localhost:8080/"
        },
        "id": "3FgKGaOS9OBp",
        "outputId": "c8eb917a-8edd-47b2-b26d-68460f5e709c"
      },
      "execution_count": 23,
      "outputs": [
        {
          "output_type": "stream",
          "name": "stdout",
          "text": [
            "Best Parameters found - {'criterion': 'entropy', 'max_depth': 8, 'max_features': None, 'min_samples_leaf': 4, 'min_samples_split': 2}\n",
            "Test set accuracy = 0.7955\n",
            "Test set f1 score = 0.8023199613339776\n"
          ]
        }
      ]
    },
    {
      "cell_type": "code",
      "source": [
        "runDecisionTree(1000, 5000)"
      ],
      "metadata": {
        "colab": {
          "base_uri": "https://localhost:8080/"
        },
        "id": "3rXdHZEV9PUF",
        "outputId": "a11a802d-a957-4c9d-9dce-96aab3ec5266"
      },
      "execution_count": 24,
      "outputs": [
        {
          "output_type": "stream",
          "name": "stdout",
          "text": [
            "Best Parameters found - {'criterion': 'entropy', 'max_depth': 10, 'max_features': None, 'min_samples_leaf': 2, 'min_samples_split': 2}\n",
            "Test set accuracy = 0.861\n",
            "Test set f1 score = 0.8660370084811102\n"
          ]
        }
      ]
    },
    {
      "cell_type": "code",
      "source": [
        "runDecisionTree(1500, 100)"
      ],
      "metadata": {
        "colab": {
          "base_uri": "https://localhost:8080/"
        },
        "id": "FksLEnmN9UPC",
        "outputId": "79db5ff8-408c-4c4d-a5b7-377fe1f0ae6d"
      },
      "execution_count": 25,
      "outputs": [
        {
          "output_type": "stream",
          "name": "stdout",
          "text": [
            "Best Parameters found - {'criterion': 'entropy', 'max_depth': 6, 'max_features': 'sqrt', 'min_samples_leaf': 2, 'min_samples_split': 2}\n",
            "Test set accuracy = 0.825\n",
            "Test set f1 score = 0.8356807511737089\n"
          ]
        }
      ]
    },
    {
      "cell_type": "code",
      "source": [
        "runDecisionTree(1500, 1000)"
      ],
      "metadata": {
        "colab": {
          "base_uri": "https://localhost:8080/"
        },
        "id": "MIRxrH9p9dmu",
        "outputId": "ce51d728-ffd5-4811-f122-4a7b8fd91de9"
      },
      "execution_count": 26,
      "outputs": [
        {
          "output_type": "stream",
          "name": "stdout",
          "text": [
            "Best Parameters found - {'criterion': 'gini', 'max_depth': 8, 'max_features': None, 'min_samples_leaf': 4, 'min_samples_split': 10}\n",
            "Test set accuracy = 0.9115\n",
            "Test set f1 score = 0.9140359397765906\n"
          ]
        }
      ]
    },
    {
      "cell_type": "code",
      "source": [
        "runDecisionTree(1500, 5000)"
      ],
      "metadata": {
        "colab": {
          "base_uri": "https://localhost:8080/"
        },
        "id": "OVRLwlQW9ez2",
        "outputId": "d08a44e2-2017-457a-d178-bdcba27a54d5"
      },
      "execution_count": 27,
      "outputs": [
        {
          "output_type": "stream",
          "name": "stdout",
          "text": [
            "Best Parameters found - {'criterion': 'gini', 'max_depth': 10, 'max_features': None, 'min_samples_leaf': 2, 'min_samples_split': 2}\n",
            "Test set accuracy = 0.9528\n",
            "Test set f1 score = 0.9533596837944663\n"
          ]
        }
      ]
    },
    {
      "cell_type": "code",
      "source": [
        "runDecisionTree(1800, 100)"
      ],
      "metadata": {
        "colab": {
          "base_uri": "https://localhost:8080/"
        },
        "id": "f4pqhdZH9sA5",
        "outputId": "44384548-1af9-4693-915b-39651706f7f8"
      },
      "execution_count": 29,
      "outputs": [
        {
          "output_type": "stream",
          "name": "stdout",
          "text": [
            "Best Parameters found - {'criterion': 'gini', 'max_depth': 4, 'max_features': None, 'min_samples_leaf': 2, 'min_samples_split': 4}\n",
            "Test set accuracy = 0.94\n",
            "Test set f1 score = 0.9417475728155339\n"
          ]
        }
      ]
    },
    {
      "cell_type": "code",
      "source": [
        "runDecisionTree(1800, 1000)"
      ],
      "metadata": {
        "colab": {
          "base_uri": "https://localhost:8080/"
        },
        "id": "WwpUPZJz9qrE",
        "outputId": "f30b1328-6cad-4a1c-826d-fca40e3ac2cb"
      },
      "execution_count": 30,
      "outputs": [
        {
          "output_type": "stream",
          "name": "stdout",
          "text": [
            "Best Parameters found - {'criterion': 'entropy', 'max_depth': 8, 'max_features': None, 'min_samples_leaf': 1, 'min_samples_split': 4}\n",
            "Test set accuracy = 0.975\n",
            "Test set f1 score = 0.9753208292201383\n"
          ]
        }
      ]
    },
    {
      "cell_type": "code",
      "source": [
        "runDecisionTree(1800, 5000)"
      ],
      "metadata": {
        "colab": {
          "base_uri": "https://localhost:8080/"
        },
        "id": "0KH2mkEL9xoR",
        "outputId": "d27a0c0d-cf42-4cc2-b042-c82545de0fef"
      },
      "execution_count": 31,
      "outputs": [
        {
          "output_type": "stream",
          "name": "stdout",
          "text": [
            "Best Parameters found - {'criterion': 'entropy', 'max_depth': 10, 'max_features': None, 'min_samples_leaf': 1, 'min_samples_split': 10}\n",
            "Test set accuracy = 0.9865\n",
            "Test set f1 score = 0.9865765138709356\n"
          ]
        }
      ]
    },
    {
      "cell_type": "code",
      "source": [],
      "metadata": {
        "id": "1fG_I3Ue9zwb"
      },
      "execution_count": null,
      "outputs": []
    }
  ]
}