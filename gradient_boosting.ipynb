{
  "cells": [
    {
      "cell_type": "code",
      "execution_count": 2,
      "metadata": {
        "id": "9L7qG7GCQ1QQ"
      },
      "outputs": [],
      "source": [
        "from sklearn.tree import DecisionTreeClassifier\n",
        "from sklearn.model_selection import GridSearchCV\n",
        "from sklearn.ensemble import GradientBoostingClassifier\n",
        "from sklearn.metrics import accuracy_score, f1_score\n",
        "\n",
        "import numpy as np"
      ]
    },
    {
      "cell_type": "code",
      "execution_count": 4,
      "metadata": {
        "id": "JiRTb4LvRD4O"
      },
      "outputs": [],
      "source": [
        "def runGradientBoosting(i, j):\n",
        "    TRAIN_PATH = f'all_data/train_c{str(i)}_d{str(j)}.csv'\n",
        "    TEST_PATH = f'all_data/test_c{str(i)}_d{str(j)}.csv'\n",
        "    VAL_PATH = f'all_data/valid_c{str(i)}_d{str(j)}.csv'\n",
        "\n",
        "    train_data = np.genfromtxt(TRAIN_PATH, delimiter = ',')\n",
        "    val_data = np.genfromtxt(VAL_PATH, delimiter = ',')\n",
        "    test_data = np.genfromtxt(TEST_PATH, delimiter = ',')\n",
        "\n",
        "    X_train = train_data[:, :-1]\n",
        "    y_train = train_data[:, -1]\n",
        "\n",
        "    X_val = val_data[:, :-1]\n",
        "    y_val = val_data[:, -1]\n",
        "\n",
        "    X_test = test_data[:, :-1]\n",
        "    y_test = test_data[:, -1]\n",
        "\n",
        "    param_grid = {\n",
        "    'n_estimators': [20, 30],\n",
        "    'max_depth': [4, 8],\n",
        "    'min_samples_split': [2, 5]\n",
        "    }\n",
        "\n",
        "    clf = GradientBoostingClassifier()\n",
        "\n",
        "    grid_search = GridSearchCV(clf, param_grid=param_grid, cv=5, n_jobs=-1)\n",
        "    grid_search.fit(X_val, y_val)\n",
        "\n",
        "    print('Best Parameters found -', grid_search.best_params_)\n",
        "\n",
        "    X_trainval = np.concatenate((X_train, X_val), axis = 0)\n",
        "    y_trainval = np.concatenate((y_train, y_val), axis = 0)\n",
        "\n",
        "    best_params = grid_search.best_params_\n",
        "    clf = GradientBoostingClassifier(\n",
        "    n_estimators=best_params['n_estimators'],\n",
        "    max_depth=best_params['max_depth'],\n",
        "    min_samples_split=best_params['min_samples_split']\n",
        "    )\n",
        "\n",
        "    clf.fit(X_train, y_train)\n",
        "\n",
        "    y_pred = clf.predict(X_test)\n",
        "\n",
        "    accuracy = accuracy_score(y_test, y_pred)\n",
        "    f1 = f1_score(y_test, y_pred)\n",
        "\n",
        "    print('Test set accuracy =', accuracy)\n",
        "    print('Test set f1 score =', f1)\n"
      ]
    },
    {
      "cell_type": "code",
      "execution_count": null,
      "metadata": {
        "colab": {
          "base_uri": "https://localhost:8080/"
        },
        "id": "w-2zXpFanB4T",
        "outputId": "723fc803-8de6-46be-abe6-acc323757fae"
      },
      "outputs": [
        {
          "name": "stdout",
          "output_type": "stream",
          "text": [
            "Best Parameters found - {'criterion': 'friedman_mse', 'learning_rate': 0.1, 'max_depth': 8, 'max_features': 'sqrt', 'min_samples_split': 5, 'n_estimators': 200}\n",
            "Test set accuracy = 0.755\n",
            "Test set f1 score = 0.7512690355329948\n"
          ]
        }
      ],
      "source": [
        "runGradientBoosting(300,100)"
      ]
    },
    {
      "cell_type": "code",
      "execution_count": null,
      "metadata": {
        "colab": {
          "background_save": true
        },
        "id": "LoouDL6HnIXY",
        "outputId": "b9a11ef3-dfcd-476d-8e47-3cba65bda9ce"
      },
      "outputs": [
        {
          "name": "stdout",
          "output_type": "stream",
          "text": [
            "Best Parameters found - {'criterion': 'friedman_mse', 'learning_rate': 0.1, 'max_depth': 4, 'max_features': None, 'min_samples_split': 2, 'n_estimators': 200}\n",
            "Test set accuracy = 0.9765\n",
            "Test set f1 score = 0.9769946157611357\n"
          ]
        }
      ],
      "source": [
        "runGradientBoosting(300, 1000)"
      ]
    },
    {
      "cell_type": "code",
      "execution_count": 5,
      "metadata": {
        "colab": {
          "base_uri": "https://localhost:8080/"
        },
        "id": "AUL1jLORnJqG",
        "outputId": "692ebedf-ebde-48d6-a4b2-66df4b3c2a4d"
      },
      "outputs": [
        {
          "output_type": "stream",
          "name": "stdout",
          "text": [
            "Best Parameters found - {'max_depth': 8, 'min_samples_split': 2, 'n_estimators': 30}\n",
            "Test set accuracy = 0.9736\n",
            "Test set f1 score = 0.9742288168684107\n"
          ]
        }
      ],
      "source": [
        "runGradientBoosting(300, 5000)"
      ]
    },
    {
      "cell_type": "code",
      "execution_count": 6,
      "metadata": {
        "colab": {
          "base_uri": "https://localhost:8080/"
        },
        "id": "mXpZypErnLZo",
        "outputId": "99979894-cda7-46c2-f137-b0946b8b9c96"
      },
      "outputs": [
        {
          "output_type": "stream",
          "name": "stdout",
          "text": [
            "Best Parameters found - {'max_depth': 4, 'min_samples_split': 2, 'n_estimators': 30}\n",
            "Test set accuracy = 0.725\n",
            "Test set f1 score = 0.729064039408867\n"
          ]
        }
      ],
      "source": [
        "runGradientBoosting(500,100)"
      ]
    },
    {
      "cell_type": "code",
      "execution_count": 7,
      "metadata": {
        "colab": {
          "base_uri": "https://localhost:8080/"
        },
        "id": "lxynsPvdnO4w",
        "outputId": "8d00df9e-168d-4312-b5c8-6d0695bc6eef"
      },
      "outputs": [
        {
          "output_type": "stream",
          "name": "stdout",
          "text": [
            "Best Parameters found - {'max_depth': 4, 'min_samples_split': 2, 'n_estimators': 30}\n",
            "Test set accuracy = 0.919\n",
            "Test set f1 score = 0.9199604743083004\n"
          ]
        }
      ],
      "source": [
        "runGradientBoosting(500, 1000)"
      ]
    },
    {
      "cell_type": "code",
      "execution_count": 8,
      "metadata": {
        "colab": {
          "base_uri": "https://localhost:8080/"
        },
        "id": "nAALZmbwnQKk",
        "outputId": "9f2eba8e-cfc6-4da2-d7c7-4213e70d14ef"
      },
      "outputs": [
        {
          "output_type": "stream",
          "name": "stdout",
          "text": [
            "Best Parameters found - {'max_depth': 8, 'min_samples_split': 2, 'n_estimators': 30}\n",
            "Test set accuracy = 0.9759\n",
            "Test set f1 score = 0.976286529568041\n"
          ]
        }
      ],
      "source": [
        "runGradientBoosting(500, 5000)"
      ]
    },
    {
      "cell_type": "code",
      "execution_count": 9,
      "metadata": {
        "colab": {
          "base_uri": "https://localhost:8080/"
        },
        "id": "QYg2uh82nRAz",
        "outputId": "80931942-3cd3-45de-b0f5-beeb6261bb70"
      },
      "outputs": [
        {
          "output_type": "stream",
          "name": "stdout",
          "text": [
            "Best Parameters found - {'max_depth': 4, 'min_samples_split': 2, 'n_estimators': 30}\n",
            "Test set accuracy = 0.855\n",
            "Test set f1 score = 0.8557213930348259\n"
          ]
        }
      ],
      "source": [
        "runGradientBoosting(1000, 100)"
      ]
    },
    {
      "cell_type": "code",
      "execution_count": 10,
      "metadata": {
        "colab": {
          "base_uri": "https://localhost:8080/"
        },
        "id": "tXF4oECmnSA3",
        "outputId": "fc0787e1-56a8-43cc-f773-ac5c7484ee89"
      },
      "outputs": [
        {
          "output_type": "stream",
          "name": "stdout",
          "text": [
            "Best Parameters found - {'max_depth': 4, 'min_samples_split': 5, 'n_estimators': 30}\n",
            "Test set accuracy = 0.953\n",
            "Test set f1 score = 0.9535113748763601\n"
          ]
        }
      ],
      "source": [
        "runGradientBoosting(1000, 1000)"
      ]
    },
    {
      "cell_type": "code",
      "execution_count": 11,
      "metadata": {
        "colab": {
          "base_uri": "https://localhost:8080/"
        },
        "id": "31iEh-gHnTIh",
        "outputId": "96537c72-9349-4960-bf3b-ea0a975a428a"
      },
      "outputs": [
        {
          "output_type": "stream",
          "name": "stdout",
          "text": [
            "Best Parameters found - {'max_depth': 8, 'min_samples_split': 2, 'n_estimators': 30}\n",
            "Test set accuracy = 0.9858\n",
            "Test set f1 score = 0.985836824256932\n"
          ]
        }
      ],
      "source": [
        "runGradientBoosting(1000, 5000)"
      ]
    },
    {
      "cell_type": "code",
      "execution_count": 12,
      "metadata": {
        "colab": {
          "base_uri": "https://localhost:8080/"
        },
        "id": "uT-ihlSpnav5",
        "outputId": "37fa6b6b-0648-4b8a-d572-5d7e5cd23729"
      },
      "outputs": [
        {
          "output_type": "stream",
          "name": "stdout",
          "text": [
            "Best Parameters found - {'max_depth': 4, 'min_samples_split': 2, 'n_estimators': 30}\n",
            "Test set accuracy = 0.945\n",
            "Test set f1 score = 0.9458128078817734\n"
          ]
        }
      ],
      "source": [
        "runGradientBoosting(1500, 100)"
      ]
    },
    {
      "cell_type": "code",
      "execution_count": 13,
      "metadata": {
        "colab": {
          "base_uri": "https://localhost:8080/"
        },
        "id": "niOyEgDToD_W",
        "outputId": "4df9ea6d-eef7-4af1-8ecd-d6ae0e475924"
      },
      "outputs": [
        {
          "output_type": "stream",
          "name": "stdout",
          "text": [
            "Best Parameters found - {'max_depth': 4, 'min_samples_split': 2, 'n_estimators': 30}\n",
            "Test set accuracy = 0.99\n",
            "Test set f1 score = 0.98998998998999\n"
          ]
        }
      ],
      "source": [
        "runGradientBoosting(1500, 1000)"
      ]
    },
    {
      "cell_type": "code",
      "execution_count": 14,
      "metadata": {
        "colab": {
          "base_uri": "https://localhost:8080/"
        },
        "id": "QGldAnk8oE3U",
        "outputId": "ae386794-408b-456a-9649-95a4b2bbd9ed"
      },
      "outputs": [
        {
          "output_type": "stream",
          "name": "stdout",
          "text": [
            "Best Parameters found - {'max_depth': 4, 'min_samples_split': 2, 'n_estimators': 30}\n",
            "Test set accuracy = 0.9953\n",
            "Test set f1 score = 0.9953061020673125\n"
          ]
        }
      ],
      "source": [
        "runGradientBoosting(1500, 5000)"
      ]
    },
    {
      "cell_type": "code",
      "execution_count": 15,
      "metadata": {
        "colab": {
          "base_uri": "https://localhost:8080/"
        },
        "id": "9ZQN7rbcoF7K",
        "outputId": "569dd056-6962-488a-ed12-d621e6a74f4b"
      },
      "outputs": [
        {
          "output_type": "stream",
          "name": "stdout",
          "text": [
            "Best Parameters found - {'max_depth': 4, 'min_samples_split': 5, 'n_estimators': 20}\n",
            "Test set accuracy = 0.875\n",
            "Test set f1 score = 0.8847926267281105\n"
          ]
        }
      ],
      "source": [
        "runGradientBoosting(1800, 100)"
      ]
    },
    {
      "cell_type": "code",
      "execution_count": 16,
      "metadata": {
        "colab": {
          "base_uri": "https://localhost:8080/"
        },
        "id": "v84MiYeRoGw1",
        "outputId": "057cfd2e-9746-4277-fcc8-ef13aeb4f035"
      },
      "outputs": [
        {
          "output_type": "stream",
          "name": "stdout",
          "text": [
            "Best Parameters found - {'max_depth': 4, 'min_samples_split': 5, 'n_estimators': 30}\n",
            "Test set accuracy = 0.9955\n",
            "Test set f1 score = 0.9955022488755622\n"
          ]
        }
      ],
      "source": [
        "runGradientBoosting(1800, 1000)"
      ]
    },
    {
      "cell_type": "code",
      "execution_count": 17,
      "metadata": {
        "colab": {
          "base_uri": "https://localhost:8080/"
        },
        "id": "2Pm_RuBLoIbb",
        "outputId": "2064a88d-5ade-4877-ad65-31a22d2699ab"
      },
      "outputs": [
        {
          "output_type": "stream",
          "name": "stdout",
          "text": [
            "Best Parameters found - {'max_depth': 4, 'min_samples_split': 2, 'n_estimators': 30}\n",
            "Test set accuracy = 0.9981\n",
            "Test set f1 score = 0.9981009495252374\n"
          ]
        }
      ],
      "source": [
        "runGradientBoosting(1800, 5000)"
      ]
    },
    {
      "cell_type": "code",
      "execution_count": null,
      "metadata": {
        "id": "6n-lj-r2oKB3"
      },
      "outputs": [],
      "source": []
    }
  ],
  "metadata": {
    "colab": {
      "provenance": []
    },
    "kernelspec": {
      "display_name": "Python 3",
      "name": "python3"
    },
    "language_info": {
      "name": "python"
    }
  },
  "nbformat": 4,
  "nbformat_minor": 0
}