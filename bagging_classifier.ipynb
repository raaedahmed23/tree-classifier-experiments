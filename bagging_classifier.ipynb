{
  "cells": [
    {
      "cell_type": "code",
      "execution_count": null,
      "metadata": {
        "id": "y7Fv58CDAKib"
      },
      "outputs": [],
      "source": [
        "from sklearn.tree import DecisionTreeClassifier\n",
        "from sklearn.model_selection import GridSearchCV\n",
        "from sklearn.ensemble import BaggingClassifier\n",
        "from sklearn.metrics import accuracy_score, f1_score\n",
        "\n",
        "import numpy as np"
      ]
    },
    {
      "cell_type": "code",
      "execution_count": null,
      "metadata": {
        "id": "TLc7VNBAAak0"
      },
      "outputs": [],
      "source": [
        "def runBaggingClassifier(i, j):\n",
        "    TRAIN_PATH = f'all_data/train_c{str(i)}_d{str(j)}.csv'\n",
        "    TEST_PATH = f'all_data/test_c{str(i)}_d{str(j)}.csv'\n",
        "    VAL_PATH = f'all_data/valid_c{str(i)}_d{str(j)}.csv'\n",
        "\n",
        "    train_data = np.genfromtxt(TRAIN_PATH, delimiter = ',')\n",
        "    val_data = np.genfromtxt(VAL_PATH, delimiter = ',')\n",
        "    test_data = np.genfromtxt(TEST_PATH, delimiter = ',')\n",
        "\n",
        "    X_train = train_data[:, :-1]\n",
        "    y_train = train_data[:, -1]\n",
        "\n",
        "    X_val = val_data[:, :-1]\n",
        "    y_val = val_data[:, -1]\n",
        "\n",
        "    X_test = test_data[:, :-1]\n",
        "    y_test = test_data[:, -1]\n",
        "\n",
        "    param_grid = {\n",
        "    'n_estimators': [10, 20, 30, 40],\n",
        "    'max_samples': [0.5, 0.7, 0.9],\n",
        "    'max_features': [0.5, 0.7, 0.9]\n",
        "    }\n",
        "\n",
        "    dt = DecisionTreeClassifier()\n",
        "\n",
        "    clf = BaggingClassifier(dt, bootstrap=True, oob_score=True, n_jobs=-1)\n",
        "\n",
        "    grid_search = GridSearchCV(clf, param_grid=param_grid, cv=5, n_jobs=-1)\n",
        "    grid_search.fit(X_val, y_val)\n",
        "\n",
        "    print('Best Parameters found -', grid_search.best_params_)\n",
        "\n",
        "    X_trainval = np.concatenate((X_train, X_val), axis = 0)\n",
        "    y_trainval = np.concatenate((y_train, y_val), axis = 0)\n",
        "    \n",
        "    best_params = grid_search.best_params_\n",
        "\n",
        "    dt = DecisionTreeClassifier()\n",
        "\n",
        "    clf = BaggingClassifier(\n",
        "    dt, n_estimators=best_params['n_estimators'],\n",
        "    max_samples=best_params['max_samples'],\n",
        "    max_features=best_params['max_features']\n",
        "    )\n",
        "\n",
        "    clf.fit(X_trainval, y_trainval)\n",
        "    y_pred = clf.predict(X_test)\n",
        "\n",
        "    accuracy = accuracy_score(y_test, y_pred)\n",
        "    f1 = f1_score(y_test, y_pred)\n",
        "\n",
        "    print('Test set accuracy =', accuracy)\n",
        "    print('Test set f1 score =', f1)"
      ]
    },
    {
      "cell_type": "code",
      "execution_count": null,
      "metadata": {
        "colab": {
          "base_uri": "https://localhost:8080/"
        },
        "id": "qIwpqFOIH1gA",
        "outputId": "85a7b797-6347-4883-a7ae-9af24b1ee799"
      },
      "outputs": [
        {
          "name": "stdout",
          "output_type": "stream",
          "text": [
            "Best Parameters found - {'max_features': 0.7, 'max_samples': 0.7, 'n_estimators': 40}\n",
            "Test set accuracy = 0.785\n",
            "Test set f1 score = 0.7724867724867724\n"
          ]
        }
      ],
      "source": [
        "runBaggingClassifier(300, 100)"
      ]
    },
    {
      "cell_type": "code",
      "execution_count": null,
      "metadata": {
        "colab": {
          "base_uri": "https://localhost:8080/"
        },
        "id": "Ubltp8e7H17w",
        "outputId": "f5214010-8350-4166-c6b8-5668308042d5"
      },
      "outputs": [
        {
          "name": "stdout",
          "output_type": "stream",
          "text": [
            "Best Parameters found - {'max_features': 0.7, 'max_samples': 0.9, 'n_estimators': 40}\n",
            "Test set accuracy = 0.8435\n",
            "Test set f1 score = 0.8429503261414952\n"
          ]
        }
      ],
      "source": [
        "runBaggingClassifier(300, 1000)"
      ]
    },
    {
      "cell_type": "code",
      "execution_count": null,
      "metadata": {
        "colab": {
          "base_uri": "https://localhost:8080/"
        },
        "id": "b_J5YMMbP9k2",
        "outputId": "b1df2d36-bbf4-4fe9-cfa0-69cd09e3468b"
      },
      "outputs": [
        {
          "name": "stderr",
          "output_type": "stream",
          "text": [
            "/usr/local/lib/python3.9/dist-packages/joblib/externals/loky/process_executor.py:702: UserWarning: A worker stopped while some jobs were given to the executor. This can be caused by a too short worker timeout or by a memory leak.\n",
            "  warnings.warn(\n"
          ]
        },
        {
          "name": "stdout",
          "output_type": "stream",
          "text": [
            "Best Parameters found - {'max_features': 0.7, 'max_samples': 0.9, 'n_estimators': 40}\n",
            "Test set accuracy = 0.9233\n",
            "Test set f1 score = 0.9238860772055175\n"
          ]
        }
      ],
      "source": [
        "runBaggingClassifier(300, 5000)"
      ]
    },
    {
      "cell_type": "code",
      "execution_count": null,
      "metadata": {
        "colab": {
          "base_uri": "https://localhost:8080/"
        },
        "id": "M53DpoBMP-qy",
        "outputId": "fa5a208b-920f-49b7-e6c1-8db87e0c07ed"
      },
      "outputs": [
        {
          "name": "stdout",
          "output_type": "stream",
          "text": [
            "Best Parameters found - {'max_features': 0.9, 'max_samples': 0.5, 'n_estimators': 40}\n",
            "Test set accuracy = 0.815\n",
            "Test set f1 score = 0.8159203980099502\n"
          ]
        }
      ],
      "source": [
        "runBaggingClassifier(500, 100)"
      ]
    },
    {
      "cell_type": "code",
      "execution_count": null,
      "metadata": {
        "colab": {
          "base_uri": "https://localhost:8080/"
        },
        "id": "vXoQBH8MQBhM",
        "outputId": "ed93e9e0-c1c7-4120-c855-49811a2a4805"
      },
      "outputs": [
        {
          "name": "stdout",
          "output_type": "stream",
          "text": [
            "Best Parameters found - {'max_features': 0.5, 'max_samples': 0.9, 'n_estimators': 40}\n",
            "Test set accuracy = 0.9085\n",
            "Test set f1 score = 0.9064895247828308\n"
          ]
        }
      ],
      "source": [
        "runBaggingClassifier(500, 1000)"
      ]
    },
    {
      "cell_type": "code",
      "execution_count": null,
      "metadata": {
        "colab": {
          "base_uri": "https://localhost:8080/"
        },
        "id": "CY1bGcMQQC5Y",
        "outputId": "b24d3cc7-4156-4b72-8456-00920033c1ea"
      },
      "outputs": [
        {
          "name": "stdout",
          "output_type": "stream",
          "text": [
            "Best Parameters found - {'max_features': 0.5, 'max_samples': 0.9, 'n_estimators': 40}\n",
            "Test set accuracy = 0.9438\n",
            "Test set f1 score = 0.9437775110044017\n"
          ]
        }
      ],
      "source": [
        "runBaggingClassifier(500, 5000)"
      ]
    },
    {
      "cell_type": "code",
      "execution_count": null,
      "metadata": {
        "colab": {
          "base_uri": "https://localhost:8080/"
        },
        "id": "DgK7hShAQE3p",
        "outputId": "68ebc21b-d7f3-4cf8-bc04-5a8f5b0b1711"
      },
      "outputs": [
        {
          "name": "stdout",
          "output_type": "stream",
          "text": [
            "Best Parameters found - {'max_features': 0.5, 'max_samples': 0.7, 'n_estimators': 40}\n",
            "Test set accuracy = 0.965\n",
            "Test set f1 score = 0.964102564102564\n"
          ]
        }
      ],
      "source": [
        "runBaggingClassifier(1000, 100)"
      ]
    },
    {
      "cell_type": "code",
      "execution_count": null,
      "metadata": {
        "colab": {
          "base_uri": "https://localhost:8080/"
        },
        "id": "cLadELRuQGNR",
        "outputId": "42857d65-9d62-43be-f67b-eb62bd27cf55"
      },
      "outputs": [
        {
          "name": "stdout",
          "output_type": "stream",
          "text": [
            "Best Parameters found - {'max_features': 0.5, 'max_samples': 0.5, 'n_estimators': 40}\n",
            "Test set accuracy = 0.9615\n",
            "Test set f1 score = 0.961824491819534\n"
          ]
        }
      ],
      "source": [
        "runBaggingClassifier(1000, 1000)"
      ]
    },
    {
      "cell_type": "code",
      "execution_count": null,
      "metadata": {
        "colab": {
          "base_uri": "https://localhost:8080/"
        },
        "id": "BhsjsXZ5QIFM",
        "outputId": "9b37e4de-b60e-4668-d63c-5c10512e4a22"
      },
      "outputs": [
        {
          "name": "stderr",
          "output_type": "stream",
          "text": [
            "/usr/local/lib/python3.9/dist-packages/joblib/externals/loky/process_executor.py:702: UserWarning: A worker stopped while some jobs were given to the executor. This can be caused by a too short worker timeout or by a memory leak.\n",
            "  warnings.warn(\n"
          ]
        },
        {
          "name": "stdout",
          "output_type": "stream",
          "text": [
            "Best Parameters found - {'max_features': 0.5, 'max_samples': 0.7, 'n_estimators': 40}\n",
            "Test set accuracy = 0.9814\n",
            "Test set f1 score = 0.9813776531838205\n"
          ]
        }
      ],
      "source": [
        "runBaggingClassifier(1000, 5000)"
      ]
    },
    {
      "cell_type": "code",
      "execution_count": null,
      "metadata": {
        "colab": {
          "base_uri": "https://localhost:8080/"
        },
        "id": "NKuHjPwlQKIM",
        "outputId": "e6ed675d-d905-4817-fc57-6bc161461b83"
      },
      "outputs": [
        {
          "name": "stdout",
          "output_type": "stream",
          "text": [
            "Best Parameters found - {'max_features': 0.5, 'max_samples': 0.9, 'n_estimators': 40}\n",
            "Test set accuracy = 0.995\n",
            "Test set f1 score = 0.9950248756218906\n"
          ]
        }
      ],
      "source": [
        "runBaggingClassifier(1500, 100)"
      ]
    },
    {
      "cell_type": "code",
      "execution_count": null,
      "metadata": {
        "colab": {
          "base_uri": "https://localhost:8080/"
        },
        "id": "Pm3Zoi0OQQAc",
        "outputId": "da173be0-8f68-4345-c1ae-8d39a02483b2"
      },
      "outputs": [
        {
          "name": "stdout",
          "output_type": "stream",
          "text": [
            "Best Parameters found - {'max_features': 0.5, 'max_samples': 0.7, 'n_estimators': 40}\n",
            "Test set accuracy = 0.997\n",
            "Test set f1 score = 0.997002997002997\n"
          ]
        }
      ],
      "source": [
        "runBaggingClassifier(1500, 1000)"
      ]
    },
    {
      "cell_type": "code",
      "execution_count": null,
      "metadata": {
        "colab": {
          "background_save": true
        },
        "id": "QLeevGVOQRTN",
        "outputId": "0e2e3638-4cc1-4143-e9f8-2b296571f9d9"
      },
      "outputs": [
        {
          "name": "stdout",
          "output_type": "stream",
          "text": [
            "Best Parameters found - {'max_features': 0.5, 'max_samples': 0.7, 'n_estimators': 40}\n",
            "Test set accuracy = 0.9981\n",
            "Test set f1 score = 0.9981001899810018\n"
          ]
        }
      ],
      "source": [
        "runBaggingClassifier(1500, 5000)"
      ]
    },
    {
      "cell_type": "code",
      "execution_count": null,
      "metadata": {
        "colab": {
          "background_save": true
        },
        "id": "OksZ98bAQT7m",
        "outputId": "35e23962-d976-4051-fcce-d07dd8af847f"
      },
      "outputs": [
        {
          "name": "stdout",
          "output_type": "stream",
          "text": [
            "Best Parameters found - {'max_features': 0.5, 'max_samples': 0.5, 'n_estimators': 30}\n",
            "Test set accuracy = 0.985\n",
            "Test set f1 score = 0.9850746268656716\n"
          ]
        }
      ],
      "source": [
        "runBaggingClassifier(1800, 100)"
      ]
    },
    {
      "cell_type": "code",
      "execution_count": null,
      "metadata": {
        "colab": {
          "background_save": true
        },
        "id": "O51loyAtQU17",
        "outputId": "737280ba-3c85-4ffa-e640-780a7d5a3659"
      },
      "outputs": [
        {
          "name": "stdout",
          "output_type": "stream",
          "text": [
            "Best Parameters found - {'max_features': 0.5, 'max_samples': 0.9, 'n_estimators': 40}\n",
            "Test set accuracy = 0.9995\n",
            "Test set f1 score = 0.9995002498750626\n"
          ]
        }
      ],
      "source": [
        "runBaggingClassifier(1800, 1000)"
      ]
    },
    {
      "cell_type": "code",
      "execution_count": null,
      "metadata": {
        "colab": {
          "background_save": true
        },
        "id": "hrcXocmHQWXL",
        "outputId": "1dad8b52-e6c4-441d-aed9-09d1bfb71b59"
      },
      "outputs": [
        {
          "name": "stderr",
          "output_type": "stream",
          "text": [
            "/usr/local/lib/python3.9/dist-packages/joblib/externals/loky/process_executor.py:702: UserWarning: A worker stopped while some jobs were given to the executor. This can be caused by a too short worker timeout or by a memory leak.\n",
            "  warnings.warn(\n"
          ]
        },
        {
          "name": "stdout",
          "output_type": "stream",
          "text": [
            "Best Parameters found - {'max_features': 0.5, 'max_samples': 0.9, 'n_estimators': 20}\n",
            "Test set accuracy = 0.9997\n",
            "Test set f1 score = 0.9996999699969997\n"
          ]
        }
      ],
      "source": [
        "runBaggingClassifier(1800, 5000)"
      ]
    },
    {
      "cell_type": "code",
      "execution_count": null,
      "metadata": {
        "id": "IiLvZTEZQXwg"
      },
      "outputs": [],
      "source": []
    }
  ],
  "metadata": {
    "colab": {
      "provenance": []
    },
    "kernelspec": {
      "display_name": "Python 3",
      "name": "python3"
    },
    "language_info": {
      "name": "python"
    }
  },
  "nbformat": 4,
  "nbformat_minor": 0
}