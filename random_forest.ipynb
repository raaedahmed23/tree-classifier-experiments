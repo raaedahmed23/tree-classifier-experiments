{
  "cells": [
    {
      "cell_type": "code",
      "execution_count": 2,
      "metadata": {
        "id": "0J8u7__GLgsd"
      },
      "outputs": [],
      "source": [
        "from sklearn.tree import DecisionTreeClassifier\n",
        "from sklearn.model_selection import GridSearchCV\n",
        "from sklearn.ensemble import RandomForestClassifier\n",
        "from sklearn.metrics import accuracy_score, f1_score\n",
        "\n",
        "import numpy as np"
      ]
    },
    {
      "cell_type": "code",
      "execution_count": 5,
      "metadata": {
        "id": "E3cmlmcyQ_U8"
      },
      "outputs": [],
      "source": [
        "def runRandomForest(i, j):\n",
        "    TRAIN_PATH = f'all_data/train_c{str(i)}_d{str(j)}.csv'\n",
        "    TEST_PATH = f'all_data/test_c{str(i)}_d{str(j)}.csv'\n",
        "    VAL_PATH = f'all_data/valid_c{str(i)}_d{str(j)}.csv'\n",
        "\n",
        "    train_data = np.genfromtxt(TRAIN_PATH, delimiter = ',')\n",
        "    val_data = np.genfromtxt(VAL_PATH, delimiter = ',')\n",
        "    test_data = np.genfromtxt(TEST_PATH, delimiter = ',')\n",
        "\n",
        "    X_train = train_data[:, :-1]\n",
        "    y_train = train_data[:, -1]\n",
        "\n",
        "    X_val = val_data[:, :-1]\n",
        "    y_val = val_data[:, -1]\n",
        "\n",
        "    X_test = test_data[:, :-1]\n",
        "    y_test = test_data[:, -1]\n",
        "\n",
        "    param_grid = {\n",
        "    'criterion': ['gini', 'entropy'],\n",
        "    'max_depth': [4, 6, 8],\n",
        "    'min_samples_split': [2, 4, 6],\n",
        "    'min_samples_leaf': [1, 2, 3],\n",
        "    'n_estimators': [10, 20, 30],\n",
        "    }\n",
        "\n",
        "    clf = RandomForestClassifier()\n",
        "    grid_search = GridSearchCV(clf, param_grid=param_grid, cv=5, n_jobs=-1)\n",
        "    grid_search.fit(X_val, y_val)\n",
        "\n",
        "    print('Best Parameters found -', grid_search.best_params_)\n",
        "\n",
        "    X_trainval = np.concatenate((X_train, X_val), axis = 0)\n",
        "    y_trainval = np.concatenate((y_train, y_val), axis = 0)\n",
        "    \n",
        "    best_params = grid_search.best_params_\n",
        "    clf = RandomForestClassifier(\n",
        "    criterion=best_params['criterion'],\n",
        "    max_depth=best_params['max_depth'],\n",
        "    min_samples_split=best_params['min_samples_split'],\n",
        "    min_samples_leaf=best_params['min_samples_leaf'],\n",
        "    n_estimators=best_params['n_estimators'],\n",
        "    )\n",
        "\n",
        "    clf.fit(X_train, y_train)\n",
        "\n",
        "    y_pred = clf.predict(X_test)\n",
        "\n",
        "    accuracy = accuracy_score(y_test, y_pred)\n",
        "    f1 = f1_score(y_test, y_pred)\n",
        "\n",
        "    print('Test set accuracy =', accuracy)\n",
        "    print('Test set f1 score =', f1)"
      ]
    },
    {
      "cell_type": "code",
      "execution_count": null,
      "metadata": {
        "colab": {
          "base_uri": "https://localhost:8080/"
        },
        "id": "Va8kgdKxVgPF",
        "outputId": "248a7132-5d02-44a4-b5a2-34d3ddd88818"
      },
      "outputs": [
        {
          "name": "stdout",
          "output_type": "stream",
          "text": [
            "Best Parameters found - {'criterion': 'entropy', 'max_depth': 6, 'max_features': None, 'min_samples_leaf': 4, 'min_samples_split': 4, 'n_estimators': 30}\n",
            "Test set accuracy = 0.68\n",
            "Test set f1 score = 0.6701030927835052\n"
          ]
        }
      ],
      "source": [
        "runRandomForest(300,100)"
      ]
    },
    {
      "cell_type": "code",
      "execution_count": null,
      "metadata": {
        "colab": {
          "background_save": true
        },
        "id": "IleAS3e9Vm2v",
        "outputId": "ea110027-1bb1-4730-a722-5258340bd9ed"
      },
      "outputs": [
        {
          "name": "stdout",
          "output_type": "stream",
          "text": [
            "Best Parameters found - {'criterion': 'entropy', 'max_depth': 6, 'max_features': None, 'min_samples_leaf': 1, 'min_samples_split': 4, 'n_estimators': 30}\n",
            "Test set accuracy = 0.8485\n",
            "Test set f1 score = 0.8568729333963155\n"
          ]
        }
      ],
      "source": [
        "runRandomForest(300, 1000)"
      ]
    },
    {
      "cell_type": "code",
      "execution_count": null,
      "metadata": {
        "colab": {
          "background_save": true
        },
        "id": "FT2i6fMyWH0E",
        "outputId": "dbc3c99a-5eaa-478d-ab35-b11e4654c1ca"
      },
      "outputs": [
        {
          "name": "stdout",
          "output_type": "stream",
          "text": [
            "Best Parameters found - {'criterion': 'entropy', 'max_depth': 8, 'max_features': None, 'min_samples_leaf': 3, 'min_samples_split': 2, 'n_estimators': 30}\n",
            "Test set accuracy = 0.8683\n",
            "Test set f1 score = 0.8769963575231157\n"
          ]
        }
      ],
      "source": [
        "runRandomForest(300, 5000)"
      ]
    },
    {
      "cell_type": "code",
      "execution_count": null,
      "metadata": {
        "colab": {
          "background_save": true
        },
        "id": "9u4e8gFqWJV8",
        "outputId": "66b5dc76-747e-4820-d4e9-006dc106293b"
      },
      "outputs": [
        {
          "name": "stdout",
          "output_type": "stream",
          "text": [
            "Best Parameters found - {'criterion': 'gini', 'max_depth': 2, 'max_features': 'sqrt', 'min_samples_leaf': 3, 'min_samples_split': 8, 'n_estimators': 30}\n",
            "Test set accuracy = 0.75\n",
            "Test set f1 score = 0.7422680412371133\n"
          ]
        }
      ],
      "source": [
        "runRandomForest(500, 100)"
      ]
    },
    {
      "cell_type": "code",
      "execution_count": 10,
      "metadata": {
        "id": "aZ_09xpiWM5O",
        "colab": {
          "base_uri": "https://localhost:8080/"
        },
        "outputId": "77178676-181c-4838-e88a-8cd4a8f67950"
      },
      "outputs": [
        {
          "output_type": "stream",
          "name": "stdout",
          "text": [
            "Best Parameters found - {'criterion': 'gini', 'max_depth': 4, 'max_features': 'sqrt', 'min_samples_leaf': 2, 'min_samples_split': 8, 'n_estimators': 30}\n",
            "Test set accuracy = 0.8575\n",
            "Test set f1 score = 0.8558421851289832\n"
          ]
        }
      ],
      "source": [
        "runRandomForest(500, 1000)"
      ]
    },
    {
      "cell_type": "code",
      "execution_count": 5,
      "metadata": {
        "id": "4YpucyVbWOOC",
        "colab": {
          "base_uri": "https://localhost:8080/"
        },
        "outputId": "28415644-9036-4a99-bb54-4f7095781331"
      },
      "outputs": [
        {
          "output_type": "stream",
          "name": "stdout",
          "text": [
            "Best Parameters found - {'criterion': 'gini', 'max_depth': 8, 'max_features': 'sqrt', 'min_samples_leaf': 2, 'min_samples_split': 6, 'n_estimators': 30}\n",
            "Test set accuracy = 0.9045\n",
            "Test set f1 score = 0.9057906678504488\n"
          ]
        }
      ],
      "source": [
        "runRandomForest(500, 5000)"
      ]
    },
    {
      "cell_type": "code",
      "execution_count": 6,
      "metadata": {
        "id": "B12CFKbUWPX5",
        "colab": {
          "base_uri": "https://localhost:8080/"
        },
        "outputId": "dd2f0b8f-7fe7-4036-83bf-d3caa63444c2"
      },
      "outputs": [
        {
          "output_type": "stream",
          "name": "stdout",
          "text": [
            "Best Parameters found - {'criterion': 'entropy', 'max_depth': 8, 'max_features': 'sqrt', 'min_samples_leaf': 3, 'min_samples_split': 6, 'n_estimators': 30}\n",
            "Test set accuracy = 0.91\n",
            "Test set f1 score = 0.9134615384615385\n"
          ]
        }
      ],
      "source": [
        "runRandomForest(1000, 100)"
      ]
    },
    {
      "cell_type": "code",
      "execution_count": 7,
      "metadata": {
        "id": "xLbTvAdIWQd4",
        "colab": {
          "base_uri": "https://localhost:8080/"
        },
        "outputId": "410a8f44-1dd3-47a5-f971-7fe0ac664993"
      },
      "outputs": [
        {
          "output_type": "stream",
          "name": "stdout",
          "text": [
            "Best Parameters found - {'criterion': 'entropy', 'max_depth': 8, 'max_features': 'sqrt', 'min_samples_leaf': 3, 'min_samples_split': 6, 'n_estimators': 30}\n",
            "Test set accuracy = 0.97\n",
            "Test set f1 score = 0.9703849950641659\n"
          ]
        }
      ],
      "source": [
        "runRandomForest(1000, 1000)"
      ]
    },
    {
      "cell_type": "code",
      "execution_count": 6,
      "metadata": {
        "id": "2qohH5pFWS4z",
        "colab": {
          "base_uri": "https://localhost:8080/"
        },
        "outputId": "61ba84fd-ed98-49a2-b352-6ba3f2539c34"
      },
      "outputs": [
        {
          "output_type": "stream",
          "name": "stdout",
          "text": [
            "Best Parameters found - {'criterion': 'entropy', 'max_depth': 8, 'min_samples_leaf': 3, 'min_samples_split': 6, 'n_estimators': 30}\n",
            "Test set accuracy = 0.9798\n",
            "Test set f1 score = 0.9798964968152867\n"
          ]
        }
      ],
      "source": [
        "runRandomForest(1000, 5000)"
      ]
    },
    {
      "cell_type": "code",
      "execution_count": 7,
      "metadata": {
        "id": "ABVxywDdWUPX",
        "colab": {
          "base_uri": "https://localhost:8080/"
        },
        "outputId": "ab8a1d85-34ee-4496-d30a-d8cce4d6fd49"
      },
      "outputs": [
        {
          "output_type": "stream",
          "name": "stdout",
          "text": [
            "Best Parameters found - {'criterion': 'gini', 'max_depth': 4, 'min_samples_leaf': 1, 'min_samples_split': 4, 'n_estimators': 30}\n",
            "Test set accuracy = 0.985\n",
            "Test set f1 score = 0.9849246231155778\n"
          ]
        }
      ],
      "source": [
        "runRandomForest(1500, 100)"
      ]
    },
    {
      "cell_type": "code",
      "execution_count": 8,
      "metadata": {
        "id": "ANMLB7dYNbed",
        "colab": {
          "base_uri": "https://localhost:8080/"
        },
        "outputId": "1a811eb8-de1d-4e1f-899f-b8cb2c211369"
      },
      "outputs": [
        {
          "output_type": "stream",
          "name": "stdout",
          "text": [
            "Best Parameters found - {'criterion': 'entropy', 'max_depth': 8, 'min_samples_leaf': 2, 'min_samples_split': 6, 'n_estimators': 30}\n",
            "Test set accuracy = 0.997\n",
            "Test set f1 score = 0.997\n"
          ]
        }
      ],
      "source": [
        "runRandomForest(1500, 1000)"
      ]
    },
    {
      "cell_type": "code",
      "execution_count": 9,
      "metadata": {
        "id": "eK4iafQtNex9",
        "colab": {
          "base_uri": "https://localhost:8080/"
        },
        "outputId": "5025d664-ebba-4105-d5ce-8500627dafda"
      },
      "outputs": [
        {
          "output_type": "stream",
          "name": "stdout",
          "text": [
            "Best Parameters found - {'criterion': 'gini', 'max_depth': 8, 'min_samples_leaf': 2, 'min_samples_split': 4, 'n_estimators': 30}\n",
            "Test set accuracy = 0.9984\n",
            "Test set f1 score = 0.9983996799359872\n"
          ]
        }
      ],
      "source": [
        "runRandomForest(1500, 5000)"
      ]
    },
    {
      "cell_type": "code",
      "execution_count": 10,
      "metadata": {
        "id": "oUnTuj_yNhTs",
        "colab": {
          "base_uri": "https://localhost:8080/"
        },
        "outputId": "45d258f3-9230-478c-ad2b-a95812c8dd23"
      },
      "outputs": [
        {
          "output_type": "stream",
          "name": "stdout",
          "text": [
            "Best Parameters found - {'criterion': 'gini', 'max_depth': 4, 'min_samples_leaf': 1, 'min_samples_split': 2, 'n_estimators': 30}\n",
            "Test set accuracy = 0.995\n",
            "Test set f1 score = 0.9950248756218906\n"
          ]
        }
      ],
      "source": [
        "runRandomForest(1800, 100)"
      ]
    },
    {
      "cell_type": "code",
      "execution_count": 11,
      "metadata": {
        "id": "z-Q63DcTNjpq",
        "colab": {
          "base_uri": "https://localhost:8080/"
        },
        "outputId": "9a201d6b-b683-4974-afa2-c85fd4f8b8a5"
      },
      "outputs": [
        {
          "output_type": "stream",
          "name": "stdout",
          "text": [
            "Best Parameters found - {'criterion': 'gini', 'max_depth': 4, 'min_samples_leaf': 1, 'min_samples_split': 2, 'n_estimators': 30}\n",
            "Test set accuracy = 0.9995\n",
            "Test set f1 score = 0.9995002498750626\n"
          ]
        }
      ],
      "source": [
        "runRandomForest(1800, 1000)"
      ]
    },
    {
      "cell_type": "code",
      "execution_count": 12,
      "metadata": {
        "id": "2GU2w1h3Nopg",
        "colab": {
          "base_uri": "https://localhost:8080/"
        },
        "outputId": "4fc97b71-06d5-4c93-f971-cb8f07064b04"
      },
      "outputs": [
        {
          "output_type": "stream",
          "name": "stdout",
          "text": [
            "Best Parameters found - {'criterion': 'gini', 'max_depth': 8, 'min_samples_leaf': 1, 'min_samples_split': 2, 'n_estimators': 30}\n",
            "Test set accuracy = 1.0\n",
            "Test set f1 score = 1.0\n"
          ]
        }
      ],
      "source": [
        "runRandomForest(1800, 5000)"
      ]
    },
    {
      "cell_type": "code",
      "execution_count": null,
      "metadata": {
        "id": "MoYvX1IVd78A"
      },
      "outputs": [],
      "source": []
    }
  ],
  "metadata": {
    "colab": {
      "provenance": []
    },
    "kernelspec": {
      "display_name": "Python 3",
      "name": "python3"
    },
    "language_info": {
      "name": "python"
    }
  },
  "nbformat": 4,
  "nbformat_minor": 0
}